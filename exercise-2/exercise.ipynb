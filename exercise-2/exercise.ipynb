{
 "cells": [
  {
   "cell_type": "markdown",
   "metadata": {},
   "source": [
    "# Exercise 2\n",
    "Add the specified code for each code cell, running the cells _in order_."
   ]
  },
  {
   "cell_type": "markdown",
   "metadata": {},
   "source": [
    "Write a **`for`** loop that prints out every 5th number (multiples of 5) from 0 to 100 (inclusive).\n",
    "- _Tip:_ use an **`end=','`** keyword argument to the `print()` function to print all the numbers on the same line."
   ]
  },
  {
   "cell_type": "code",
   "execution_count": 2,
   "metadata": {},
   "outputs": [
    {
     "name": "stdout",
     "output_type": "stream",
     "text": [
      "0,5,10,15,20,25,30,35,40,45,50,55,60,65,70,75,80,85,90,95,"
     ]
    }
   ],
   "source": [
    "a = 0\n",
    "for a in range(0, 100, 5):\n",
    "    print(a, end=',')"
   ]
  },
  {
   "cell_type": "markdown",
   "metadata": {},
   "source": [
    "Use a **`for`** loop to print out the first 15 [Triangular numbers](https://en.wikipedia.org/wiki/Triangular_number). This is a sequence of numbers for which the _nth_ value is the sum of the numbers from 0 to _n_. **Do this only using addition!**\n",
    "- _Hint:_ use an additional variable to keep track of the `total` value, and have that value increase by the number of times you've been through the loop each iteration!"
   ]
  },
  {
   "cell_type": "code",
   "execution_count": 3,
   "metadata": {},
   "outputs": [
    {
     "name": "stdout",
     "output_type": "stream",
     "text": [
      "0,1,3,6,10,15,21,28,36,45,55,66,78,91,105,"
     ]
    }
   ],
   "source": [
    "a = 0 \n",
    "n = 0\n",
    "for n in range(0, 15):\n",
    "    a = a + n\n",
    "    print(a, end=',')"
   ]
  },
  {
   "cell_type": "markdown",
   "metadata": {},
   "source": [
    "_Challenge_ Use a **`for`** loop to print out 20 numbers, each of which is larger than the previous by the the _sum_ of the **two** previous numbers (the [Fibonacci sequence](https://en.wikipedia.org/wiki/Fibonacci_number).\n",
    "- _Hint_: you'll need to keep track of the two previous values (start them at 0 and 1), and then \"update\" them each time through the loop, storing the  \"new total\" in the first previous variable, and the first previous variable in the second (be careful about the ordering of this!) "
   ]
  },
  {
   "cell_type": "code",
   "execution_count": 50,
   "metadata": {},
   "outputs": [
    {
     "name": "stdout",
     "output_type": "stream",
     "text": [
      "1,1,2,3,5,8,13,21,34,55,89,144,233,377,610,987,1597,2584,4181,6765,"
     ]
    }
   ],
   "source": [
    "a = 0\n",
    "b = 1\n",
    "for n in range(0, 20):\n",
    "    print(b, end=',')\n",
    "    sum = a + b\n",
    "    a = b\n",
    "    b = sum\n",
    "    "
   ]
  },
  {
   "cell_type": "markdown",
   "metadata": {},
   "source": [
    "Define a function **`is_prime()`** that takes in a whole number as an argument and returns whether or not that number is prime (divisible by only 1 and itself).\n",
    "- You can check divisibility by seeing if the remainder (using the modulo **`%`** operator) is 0, or by comparing the integer of the quotient to the float of the quotient.\n",
    "- Be careful to only `return` that a value is in fact prime after you've checked **all** the factors!"
   ]
  },
  {
   "cell_type": "code",
   "execution_count": 54,
   "metadata": {},
   "outputs": [
    {
     "data": {
      "text/plain": [
       "True"
      ]
     },
     "execution_count": 54,
     "metadata": {},
     "output_type": "execute_result"
    }
   ],
   "source": [
    "def is_prime(num:int):\n",
    "    for n in range(2, num):\n",
    "        if num % n == 0:\n",
    "            return False\n",
    "    return True\n",
    "is_prime(2)"
   ]
  },
  {
   "cell_type": "markdown",
   "metadata": {},
   "source": [
    "Define a function **`find_primes()`** that takes in a whole number and _prints out_ all of the prime numbers that are less than or equal to the parameter. Call the function to print out the prime numbers up to 101.\n",
    "- Make sure to your `is_prime()` function!"
   ]
  },
  {
   "cell_type": "code",
   "execution_count": 62,
   "metadata": {},
   "outputs": [
    {
     "name": "stdout",
     "output_type": "stream",
     "text": [
      "2,3,5,7,11,13,17,19,23,29,31,37,41,43,47,53,59,61,67,71,73,79,83,89,97,101,"
     ]
    }
   ],
   "source": [
    "def find_primes(num:int):\n",
    "    for n in range(2, num):\n",
    "        if is_prime(n):\n",
    "            print(n, end=',')\n",
    "find_primes(102)"
   ]
  },
  {
   "cell_type": "markdown",
   "metadata": {},
   "source": [
    "As discussed in the course text, `for` loops can be used to iterate over collections of data such as files. But it is also possible to convert a **`string`** into a collection (technically a _list_) of ___words___ by calling the [split()](https://docs.python.org/3.6/library/stdtypes.html#str.split) method on that string.\n",
    "\n",
    "Create a variable `quote` containing a quote from someone you admire. Then create a variable **`words`** by calling the `split()` method on the quote."
   ]
  },
  {
   "cell_type": "code",
   "execution_count": 48,
   "metadata": {},
   "outputs": [
    {
     "name": "stdout",
     "output_type": "stream",
     "text": [
      "['Without', 'an', 'acquaintance', 'with', 'the', 'rules', 'of', 'propriety,', 'it', 'is', 'impossible', 'for', 'the', 'character', 'to', 'be', 'established.']\n"
     ]
    }
   ],
   "source": [
    "quote = \"Without an acquaintance with the rules of propriety, it is impossible for the character to be established.\"\n",
    "words = quote.split(\" \")\n",
    "print(words)"
   ]
  },
  {
   "cell_type": "markdown",
   "metadata": {},
   "source": [
    "Use a **`for`** loop to iterate through the words, printing out each one on a separate line."
   ]
  },
  {
   "cell_type": "code",
   "execution_count": 63,
   "metadata": {},
   "outputs": [
    {
     "name": "stdout",
     "output_type": "stream",
     "text": [
      "Without\n",
      "an\n",
      "acquaintance\n",
      "with\n",
      "the\n",
      "rules\n",
      "of\n",
      "propriety,\n",
      "it\n",
      "is\n",
      "impossible\n",
      "for\n",
      "the\n",
      "character\n",
      "to\n",
      "be\n",
      "established.\n"
     ]
    }
   ],
   "source": [
    "for word in words:\n",
    "    print(word)"
   ]
  },
  {
   "cell_type": "markdown",
   "metadata": {},
   "source": [
    "Use a **`for`** loop to determine the _percentage_ of words in the quote that have 4 or more letters."
   ]
  },
  {
   "cell_type": "code",
   "execution_count": 67,
   "metadata": {},
   "outputs": [
    {
     "name": "stdout",
     "output_type": "stream",
     "text": [
      "The percentage is 47.05882352941176 %\n"
     ]
    }
   ],
   "source": [
    "total_words = 0\n",
    "count_4 = 0\n",
    "for word in words:\n",
    "    total_words += 1\n",
    "    if len(word) >= 4:\n",
    "        count_4 += 1\n",
    "ratio = count_4 / total_words * 100\n",
    "print(\"The percentage is \" + str(ratio) + \" %\")"
   ]
  },
  {
   "cell_type": "markdown",
   "metadata": {},
   "source": [
    "It's also possible to use a `for` loop to iterate through the _letters_ in a string!\n",
    "\n",
    "Create a variable `word` containing your favorite word. Iterate through the letters in the word, printing `\"Give me a __!\"` for each (replacing the `__` with the letter). Finally, print `\"What does that spell?!\"` followed by the word."
   ]
  },
  {
   "cell_type": "code",
   "execution_count": 1,
   "metadata": {},
   "outputs": [
    {
     "name": "stdout",
     "output_type": "stream",
     "text": [
      "Give me a F !\n",
      "Give me a i !\n",
      "Give me a v !\n",
      "Give me a e !\n",
      "What does that spell?!  FIVE\n"
     ]
    }
   ],
   "source": [
    "word = \"Five\"\n",
    "for letter in word:\n",
    "    print(\"Give me a \" + letter +\" !\")\n",
    "print(\"What does that spell?! \", word.upper())"
   ]
  },
  {
   "cell_type": "code",
   "execution_count": null,
   "metadata": {},
   "outputs": [],
   "source": []
  }
 ],
 "metadata": {
  "kernelspec": {
   "display_name": "Python 3",
   "language": "python",
   "name": "python3"
  },
  "language_info": {
   "codemirror_mode": {
    "name": "ipython",
    "version": 3
   },
   "file_extension": ".py",
   "mimetype": "text/x-python",
   "name": "python",
   "nbconvert_exporter": "python",
   "pygments_lexer": "ipython3",
   "version": "3.7.1"
  },
  "toc": {
   "colors": {
    "hover_highlight": "#DAA520",
    "running_highlight": "#FF0000",
    "selected_highlight": "#FFD700"
   },
   "moveMenuLeft": true,
   "nav_menu": {
    "height": "30px",
    "width": "252px"
   },
   "navigate_menu": true,
   "number_sections": true,
   "sideBar": true,
   "threshold": 4,
   "toc_cell": false,
   "toc_section_display": "block",
   "toc_window_display": false,
   "widenNotebook": false
  }
 },
 "nbformat": 4,
 "nbformat_minor": 2
}
